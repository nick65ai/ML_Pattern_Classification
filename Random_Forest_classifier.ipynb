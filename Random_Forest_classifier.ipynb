{
  "nbformat": 4,
  "nbformat_minor": 0,
  "metadata": {
    "colab": {
      "provenance": []
    },
    "kernelspec": {
      "name": "python3",
      "display_name": "Python 3"
    },
    "language_info": {
      "name": "python"
    }
  },
  "cells": [
    {
      "cell_type": "code",
      "execution_count": 2,
      "metadata": {
        "colab": {
          "base_uri": "https://localhost:8080/"
        },
        "id": "K44_Apmzj4ol",
        "outputId": "8ce3d40c-913f-4aaa-bc75-08944e6c5e15"
      },
      "outputs": [
        {
          "output_type": "stream",
          "name": "stdout",
          "text": [
            "Drive already mounted at /content/drive/; to attempt to forcibly remount, call drive.mount(\"/content/drive/\", force_remount=True).\n"
          ]
        }
      ],
      "source": [
        "#from BirdExplore import BirdsData\n",
        "import os\n",
        "import seaborn as sns\n",
        "import pandas as pd\n",
        "import torch\n",
        "from torch import nn\n",
        "from matplotlib import pyplot as plt\n",
        "import numpy as np\n",
        "\n",
        "import numpy as np\n",
        "from sklearn.model_selection import train_test_split\n",
        "from sklearn import svm\n",
        "\n",
        "from keras.models import Sequential\n",
        "from sklearn.feature_extraction.text import CountVectorizer\n",
        "from keras.preprocessing.text import Tokenizer\n",
        "#from keras.preprocessing.sequence import pad_sequences\n",
        "from sklearn.model_selection import train_test_split\n",
        "from keras.utils.np_utils import to_categorical\n",
        "from keras.callbacks import EarlyStopping\n",
        "\n",
        "from google.colab import drive\n",
        "from sklearn.model_selection import train_test_split\n",
        "drive.mount('/content/drive/')\n"
      ]
    },
    {
      "cell_type": "code",
      "source": [
        "#!ls \"/content/drive/My Drive/AI_JKU/MLPC\"\n",
        "#loading our dataset CONNECT YOUR GOOGLE DRIVE AND CHANGE DERICTORY\n",
        "dataset = pd.read_csv('/content/drive/My Drive/AI_JKU/MLPC/bird.csv')"
      ],
      "metadata": {
        "id": "xIIf2jCau5gr"
      },
      "execution_count": 3,
      "outputs": []
    },
    {
      "cell_type": "markdown",
      "source": [
        "# Data Split:\n",
        "\n",
        "For the cross-validation split, we are going to use stratified k-fold cross-validation since the dataset has an imbalanced class distribution. This method ensures that each fold has approximately the same proportion of each class. We can then use the average performance across all folds as the final performance estimate. \n",
        "\n",
        "The choice of k in k-fold cross-validation depends on the size of our dataset and the balance between the number of samples in each class. In our case, the majority class \"other\" has 85358 samples, which is about 71% of the entire dataset. It's important to make sure that each fold in the cross-validation contains a representative sample of each class.\n",
        "\n",
        "The cross-validation was performed with 5 splits. StratifiedKFold is a good choice when dealing with imbalanced datasets, as it ensures that the class distribution is maintained in each fold. The shuffle parameter was set to True to randomize the data before splitting."
      ],
      "metadata": {
        "id": "WglzSnvSxbzv"
      }
    },
    {
      "cell_type": "markdown",
      "source": [
        "# Features:\n",
        "Since the dataset has a large number of features, feature selection or dimensionality reduction techniques could be applied to reduce the number of features and improve the performance of the algorithm. One way to select features is to use feature importance scores provided by the random forest algorithm itself. Alternatively, techniques such as principal component analysis (PCA) or linear discriminant analysis (LDA) could be used to reduce the dimensionality of the data. Additionally, data preprocessing techniques such as normalization or standardization could be applied to scale the features to a similar range."
      ],
      "metadata": {
        "id": "3UI_n3d0xepx"
      }
    },
    {
      "cell_type": "markdown",
      "source": [
        "# Evaluation: \n",
        "\n",
        "The evaluation criteria used in the code include accuracy, precision, recall, F1-score, and AUC-ROC. These metrics provide a comprehensive view of the model's performance in terms of classification accuracy, precision (weighted average), recall (weighted average), F1-score (weighted average), and the area under the ROC curve. "
      ],
      "metadata": {
        "id": "pxpzb-oB1WQl"
      }
    },
    {
      "cell_type": "code",
      "source": [
        "# Get a list of all feature names in the dataset\n",
        "feature_names = list(dataset.columns)\n",
        "\n",
        "# Define a list of keywords to filter the feature names by\n",
        "keywords = ['cln_melspect_mean', 'cln_contrast_mean', 'cln_mfcc_mean', 'cln_power_mean', 'cln_energy_mean', \n",
        "            'cln_centroid_mean', 'cln_flatness_mean', 'cln_melspect_std', 'cln_mfcc_std',\n",
        "            'raw_contrast_mean', 'raw_melspect_mean', 'raw_mfcc_mean', 'raw_flux_std',\n",
        "            'raw_melspect_std', 'raw_mfcc_std', 'raw_power_std', 'raw_energy_std',\n",
        "            'yin']\n",
        "\n",
        "# Filter the feature names to only include those that contain one of the keywords\n",
        "selected_features = [name for name in feature_names if any(keyword in name for keyword in keywords)]\n",
        "\n",
        "# Add the target column to the selected features\n",
        "selected_features.append('target')\n",
        "\n",
        "# Select only the filtered columns from the original dataset\n",
        "ds_filtered = dataset[selected_features]\n",
        "\n",
        "# Assign the filtered dataset to the original variable\n",
        "ds = ds_filtered\n",
        "\n",
        "print(ds)\n"
      ],
      "metadata": {
        "colab": {
          "base_uri": "https://localhost:8080/"
        },
        "id": "89hOpeYdy0st",
        "outputId": "eef0103c-ce75-4821-d590-26882a1c20d8"
      },
      "execution_count": 4,
      "outputs": [
        {
          "output_type": "stream",
          "name": "stdout",
          "text": [
            "            yin_0        yin_1       yin_2       yin_3       yin_4  \\\n",
            "0       490.95706   491.753000   488.98358   485.07758   469.73868   \n",
            "1       467.41357   516.481700   515.56213   514.21027   509.39246   \n",
            "2       511.84506   508.178220   509.49075   509.44510   513.54913   \n",
            "3       514.25470   512.569800  4576.39400  4567.56050  4576.48800   \n",
            "4       462.35953  4722.730500  4718.76900  4696.35940  4698.63870   \n",
            "...           ...          ...         ...         ...         ...   \n",
            "119995  123.89011   102.581856   138.74265   105.55623   134.43510   \n",
            "119996  113.35216   132.759500   131.74880   132.74190   137.45901   \n",
            "119997  112.55479   111.380640   110.19271   139.75227   108.30055   \n",
            "119998  239.43413   238.842990   247.39948   146.59433   173.95085   \n",
            "119999  287.17032   142.139500   146.61256   169.66037   168.43490   \n",
            "\n",
            "              yin_5        yin_6       yin_7       yin_8        yin_9  ...  \\\n",
            "0        513.687100   512.657350   245.04290   514.48834   245.524410  ...   \n",
            "1        510.750340   511.419980   511.06420   511.63593   512.267460  ...   \n",
            "2        512.355500   514.466060   515.26460   516.79944   517.543700  ...   \n",
            "3       4655.340300  4689.938500  4697.40400  4705.35940  4699.885000  ...   \n",
            "4       4731.375500  4714.809600  4737.36430  4706.75340  4739.591300  ...   \n",
            "...             ...          ...         ...         ...          ...  ...   \n",
            "119995   125.141900   101.367195   101.14460   106.69175   116.461754  ...   \n",
            "119996   141.979770   120.620420   121.37654   121.60659   475.009030  ...   \n",
            "119997   108.921104   109.548840   150.18509   148.26671   149.371690  ...   \n",
            "119998   147.529720   147.219480   144.57582   189.30753   105.818170  ...   \n",
            "119999   134.153700   138.152150   137.41750   136.49942   160.666820  ...   \n",
            "\n",
            "        cln_energy_mean  cln_power_mean  cln_contrast_mean_0  \\\n",
            "0             656.51570      2606.18300            10.763522   \n",
            "1             609.17420      1199.92180             7.252409   \n",
            "2             578.57855       992.49070             4.404459   \n",
            "3             558.59800       925.25970             6.169155   \n",
            "4             500.64655       694.35974             5.772846   \n",
            "...                 ...             ...                  ...   \n",
            "119995        540.86786       743.56805             6.867955   \n",
            "119996        501.97162       647.73050             6.470386   \n",
            "119997        508.41083       656.84894             5.529394   \n",
            "119998        503.00006       652.59180             6.408688   \n",
            "119999        475.29184       597.87250             4.853434   \n",
            "\n",
            "        cln_contrast_mean_1  cln_contrast_mean_2  cln_contrast_mean_3  \\\n",
            "0                  5.012050             8.361791            13.917274   \n",
            "1                  6.824798             6.812203             9.297411   \n",
            "2                  6.717711             8.694318             9.370331   \n",
            "3                  6.823544             8.610799            11.893691   \n",
            "4                  5.700120             7.798101            11.630939   \n",
            "...                     ...                  ...                  ...   \n",
            "119995             5.273756             8.167507            10.142544   \n",
            "119996             6.230788             7.784320            11.346152   \n",
            "119997             5.033218             8.830275             9.516234   \n",
            "119998             5.809463             8.507155            10.136121   \n",
            "119999             5.458491             9.057561             9.833376   \n",
            "\n",
            "        cln_contrast_mean_4  cln_contrast_mean_5  cln_contrast_mean_6  target  \n",
            "0                 13.432678            13.885087            17.060001   other  \n",
            "1                 11.027208            14.805115            17.158812   other  \n",
            "2                 12.740061            13.215790            16.725847   other  \n",
            "3                 11.951676            13.193249            16.734816   other  \n",
            "4                 10.747338            12.740884            16.750946   other  \n",
            "...                     ...                  ...                  ...     ...  \n",
            "119995            11.881072            11.997240            13.956856   other  \n",
            "119996            12.572021            12.853501            13.934392   other  \n",
            "119997            12.744103            12.085483            14.217721   other  \n",
            "119998            11.219385            13.034064            14.253229   other  \n",
            "119999            12.849932            13.079864            14.087915   other  \n",
            "\n",
            "[120000 rows x 356 columns]\n"
          ]
        }
      ]
    },
    {
      "cell_type": "markdown",
      "source": [
        "# Experiments: \n",
        "\n",
        "We have experimented with different hyperparameter combinations for a RandomForestClassifier. By varying the hyperparameters, we observed how the classification performance changes and identified the parameter settings that yield the best results. It's also worth exploring other classifiers from different groups (e.g., support vector machines, X gradient boosting) to compare their performance against RandomForestClassifier and investigate how overfitting and classification performance vary across different classifiers."
      ],
      "metadata": {
        "id": "OM6LD1Kt1zqU"
      }
    },
    {
      "cell_type": "code",
      "source": [
        "from imblearn.under_sampling import RandomUnderSampler\n",
        "\n",
        "\n",
        "concated = ds.reindex(np.random.permutation(ds.index))\n",
        "\n",
        "concated['LABEL'] = 0\n",
        "\n",
        "concated.loc[concated['target'] == 'other', 'LABEL'] = 0\n",
        "concated.loc[concated['target'] == 'cowpig1', 'LABEL'] = 1\n",
        "concated.loc[concated['target'] == 'eucdov', 'LABEL'] = 2\n",
        "concated.loc[concated['target'] == 'comcuc', 'LABEL'] = 3\n",
        "concated.loc[concated['target'] == 'grswoo', 'LABEL'] = 4\n",
        "concated.loc[concated['target'] == 'tawowl1', 'LABEL'] = 5\n",
        "concated.loc[concated['target'] == 'eueowl1', 'LABEL'] = 6\n",
        "\n",
        "\n",
        "\n",
        "concated = concated.drop(['target'], axis=1) # final state of data with int labels\n",
        "\n",
        "X_array = concated.drop(['LABEL'], axis=1) # pure data without any labels\n",
        "\n",
        "\n",
        "#concated = concated.sample(frac=1, random_state=42)\n",
        "# from sklearn.preprocessing import MinMaxScaler\n",
        "\n",
        "# scaler = MinMaxScaler()\n",
        "# normalized_data = scaler.fit_transform(X_array)\n",
        "\n",
        "\n",
        "#X = normalized_data\n",
        "X = X_array\n",
        "y = concated['LABEL']\n",
        "#print(\"eto y\",y)\n",
        "\n",
        "from sklearn.preprocessing import MinMaxScaler\n",
        "\n",
        "scaler = MinMaxScaler()\n",
        "X_normalized = scaler.fit_transform(X)\n",
        "X_normalized_df = pd.DataFrame(X_normalized, index=X.index, columns=X.columns)\n",
        "# Fit and apply the under-sampler to the data\n",
        "# under_sampler = RandomUnderSampler(random_state=42)\n",
        "# X_resampled, y_resampled = under_sampler.fit_resample(X, y)\n",
        "\n",
        "# select the first 20% of the shuffled indices\n",
        "n = int(len(X_normalized_df) * 0.2)\n",
        "X_subset = X_normalized_df[:n]\n",
        "y_subset = y[:n]\n",
        "\n",
        "# from sklearn.preprocessing import MinMaxScaler\n",
        "\n",
        "# scaler = MinMaxScaler()\n",
        "# X_normalized = scaler.fit_transform(X_subset)\n",
        "# X_normalized_df = pd.DataFrame(X_normalized, index=X_subset.index, columns=X_subset.columns)\n",
        "\n",
        "print(X_subset, y_subset)\n",
        "print(np.shape(X_subset), np.shape(y_subset))\n",
        "print(y_subset.value_counts())\n",
        "\n",
        "\n",
        "# #trying to shuffle \n",
        "# num_of_categories = 2320\n",
        "# shuffled = dataset.reindex(np.random.permutation(dataset.index))\n",
        "# other = shuffled[shuffled['target'] == 'other'][:num_of_categories]\n",
        "# cowpig1 = shuffled[shuffled['target'] == 'cowpig1'][:num_of_categories]\n",
        "# eucdov = shuffled[shuffled['target'] == 'eucdov'][:num_of_categories]\n",
        "# comcuc = shuffled[shuffled['target'] == 'comcuc'][:num_of_categories]\n",
        "# grswoo = shuffled[shuffled['target'] == 'grswoo'][:num_of_categories]\n",
        "# tawowl1 = shuffled[shuffled['target'] == 'tawowl1'][:num_of_categories]\n",
        "# eueowl1 = shuffled[shuffled['target'] == 'eueowl1'][:num_of_categories]\n",
        "\n",
        "\n",
        "# concated = pd.concat([other,cowpig1,eucdov,comcuc,grswoo,tawowl1,eueowl1], ignore_index=True)\n",
        "# #Shuffle the dataset\n",
        "# concated = concated.reindex(np.random.permutation(concated.index))\n",
        "# concated['LABEL'] = 0"
      ],
      "metadata": {
        "id": "Hz3Dc2SF5MgI",
        "colab": {
          "base_uri": "https://localhost:8080/"
        },
        "outputId": "7c5bb0ff-4bf7-4dea-b3de-d21596998733"
      },
      "execution_count": 5,
      "outputs": [
        {
          "output_type": "stream",
          "name": "stdout",
          "text": [
            "           yin_0     yin_1     yin_2     yin_3     yin_4     yin_5     yin_6  \\\n",
            "40157   0.005742  0.005790  0.005628  0.038550  0.037319  0.010941  0.010720   \n",
            "32433   0.037527  0.036017  0.035362  0.035512  0.035308  0.035187  0.034996   \n",
            "93216   0.398333  0.391084  0.385227  0.381488  0.380691  0.071025  0.005107   \n",
            "63577   1.000000  1.000000  1.000000  1.000000  1.000000  1.000000  1.000000   \n",
            "6917    0.162932  0.041059  0.041460  0.041436  0.044891  0.045502  0.365133   \n",
            "...          ...       ...       ...       ...       ...       ...       ...   \n",
            "17333   0.045160  0.045166  0.045599  0.044659  0.044982  0.045103  0.046643   \n",
            "31828   0.033534  0.033133  0.002544  0.002977  0.034106  0.003469  0.038904   \n",
            "101015  0.053732  0.032920  0.032745  0.053963  0.028370  0.054070  0.000566   \n",
            "27849   0.031525  0.030929  0.031049  0.030736  0.030289  0.030138  0.030266   \n",
            "72613   0.025570  0.025331  0.024146  0.024155  0.029909  0.032677  0.033267   \n",
            "\n",
            "           yin_7     yin_8     yin_9  ...  cln_centroid_mean  cln_energy_mean  \\\n",
            "40157   0.010509  0.010544  0.053131  ...           0.393243         0.000004   \n",
            "32433   0.034812  0.034263  0.034178  ...           0.494188         0.000003   \n",
            "93216   0.005119  0.008072  0.008532  ...           0.462812         0.000004   \n",
            "63577   1.000000  1.000000  1.000000  ...           0.516806         0.000003   \n",
            "6917    0.370218  0.183866  0.181017  ...           0.481035         0.000003   \n",
            "...          ...       ...       ...  ...                ...              ...   \n",
            "17333   0.054454  0.054355  0.054155  ...           0.479344         0.000004   \n",
            "31828   0.003805  0.003779  0.030095  ...           0.500232         0.000003   \n",
            "101015  0.000644  0.054129  0.053315  ...           0.496129         0.000003   \n",
            "27849   0.031459  0.031423  0.031220  ...           0.386062         0.000004   \n",
            "72613   0.033815  0.201092  0.212704  ...           0.528626         0.000003   \n",
            "\n",
            "        cln_power_mean  cln_contrast_mean_0  cln_contrast_mean_1  \\\n",
            "40157     1.612174e-12             0.111432             0.137545   \n",
            "32433     5.539938e-13             0.125324             0.093785   \n",
            "93216     3.043481e-12             0.152471             0.215067   \n",
            "63577     4.203696e-13             0.034397             0.084255   \n",
            "6917      8.866628e-13             0.063857             0.110973   \n",
            "...                ...                  ...                  ...   \n",
            "17333     1.322848e-12             0.038777             0.103963   \n",
            "31828     8.901472e-13             0.078237             0.098581   \n",
            "101015    5.808132e-13             0.173271             0.102445   \n",
            "27849     2.061687e-12             0.091492             0.125519   \n",
            "72613     6.493785e-13             0.155459             0.131565   \n",
            "\n",
            "        cln_contrast_mean_2  cln_contrast_mean_3  cln_contrast_mean_4  \\\n",
            "40157              0.211980             0.171487             0.287434   \n",
            "32433              0.106700             0.275070             0.154812   \n",
            "93216              0.135839             0.183328             0.179022   \n",
            "63577              0.140801             0.085315             0.130423   \n",
            "6917               0.088376             0.159998             0.188693   \n",
            "...                     ...                  ...                  ...   \n",
            "17333              0.118517             0.190923             0.182174   \n",
            "31828              0.107900             0.159889             0.114582   \n",
            "101015             0.099934             0.184223             0.107722   \n",
            "27849              0.137937             0.377616             0.156388   \n",
            "72613              0.156676             0.203170             0.135346   \n",
            "\n",
            "        cln_contrast_mean_5  cln_contrast_mean_6  \n",
            "40157              0.154911             0.154291  \n",
            "32433              0.155989             0.133321  \n",
            "93216              0.213197             0.279705  \n",
            "63577              0.144864             0.129524  \n",
            "6917               0.318865             0.162062  \n",
            "...                     ...                  ...  \n",
            "17333              0.233994             0.177797  \n",
            "31828              0.132170             0.220385  \n",
            "101015             0.175890             0.165188  \n",
            "27849              0.204206             0.215156  \n",
            "72613              0.152514             0.229176  \n",
            "\n",
            "[24000 rows x 355 columns] 40157     2\n",
            "32433     1\n",
            "93216     0\n",
            "63577     0\n",
            "6917      0\n",
            "         ..\n",
            "17333     3\n",
            "31828     0\n",
            "101015    0\n",
            "27849     1\n",
            "72613     0\n",
            "Name: LABEL, Length: 24000, dtype: int64\n",
            "(24000, 355) (24000,)\n",
            "0    16975\n",
            "1     1840\n",
            "2     1654\n",
            "3     1148\n",
            "4     1077\n",
            "5      855\n",
            "6      451\n",
            "Name: LABEL, dtype: int64\n"
          ]
        }
      ]
    },
    {
      "cell_type": "code",
      "source": [
        "print(np.shape(X_subset), np.shape(y_subset))\n",
        "print(type(X_subset), type(y_subset))\n",
        "\n",
        "print(X_subset, y_subset)"
      ],
      "metadata": {
        "id": "J9dvmtG8OALb"
      },
      "execution_count": null,
      "outputs": []
    },
    {
      "cell_type": "code",
      "source": [
        "from sklearn.feature_selection import SelectKBest, mutual_info_classif\n",
        "\n",
        "# selector = SelectKBest(mutual_info_classif, k=100)\n",
        "# X_new = selector.fit_transform(X_resampled, y_resampled)\n"
      ],
      "metadata": {
        "id": "bTJuW_3tmSaK"
      },
      "execution_count": 33,
      "outputs": []
    },
    {
      "cell_type": "code",
      "source": [
        "from sklearn.ensemble import RandomForestClassifier\n",
        "from itertools import product\n",
        "\n",
        "# Define the parameter grid\n",
        "param_grid = {\n",
        "    'n_estimators': [100],\n",
        "    'max_depth': [5, 10, 20],\n",
        "    'min_samples_split': [2, 5],\n",
        "    'min_samples_leaf': [2, 4],\n",
        "    'max_features': ['sqrt', 'log2']\n",
        "}\n",
        "\n",
        "# Create a list of all possible hyperparameter combinations\n",
        "param_list = list(product(*param_grid.values()))\n",
        "\n",
        "# Initialize an empty list to store results\n",
        "results = []\n",
        "\n",
        "# Split the data into training and test sets\n",
        "X_train, X_test, y_train, y_test = train_test_split(X_subset, y_subset, test_size=0.2, random_state=0)\n",
        "\n",
        "\n",
        "# Loop over all hyperparameter combinations\n",
        "for i, params in enumerate(param_list):\n",
        "    # Print the current hyperparameter setting\n",
        "    print(f\"Running combination {i+1}/{len(param_list)}: {params}\")\n",
        "    \n",
        "    # Initialize the random forest classifier with the current hyperparameters\n",
        "    clf = RandomForestClassifier(**dict(zip(param_grid.keys(), params)))\n",
        "    \n",
        "    # Fit the classifier on the training data\n",
        "    clf.fit(X_train, y_train)\n",
        "    \n",
        "    # Predict the labels of the test data\n",
        "    y_pred = clf.predict(X_test)\n",
        "    \n",
        "    # Compute the evaluation metric for this hyperparameter combination\n",
        "    acc_score = accuracy_score(y_test, y_pred)\n",
        "    \n",
        "    # Add the hyperparameter combination and its corresponding accuracy score to the results list\n",
        "    results.append((params, acc_score))\n",
        "    \n",
        "# Sort the results list by accuracy score in descending order\n",
        "results_unsorted = results\n",
        "results = sorted(results, key=lambda x: x[1], reverse=True)\n",
        "\n",
        "# Print the best hyperparameter combination and its corresponding accuracy score\n",
        "print(f\"Best hyperparameters: {results[0][0]}, accuracy score: {results[0][1]}\")\n"
      ],
      "metadata": {
        "colab": {
          "base_uri": "https://localhost:8080/"
        },
        "id": "IbrIVDnqkVYl",
        "outputId": "7521417b-81df-438a-9df8-fe11bf503f19"
      },
      "execution_count": 18,
      "outputs": [
        {
          "output_type": "stream",
          "name": "stdout",
          "text": [
            "Running combination 1/24: (100, 5, 2, 2, 'sqrt')\n",
            "Running combination 2/24: (100, 5, 2, 2, 'log2')\n",
            "Running combination 3/24: (100, 5, 2, 4, 'sqrt')\n",
            "Running combination 4/24: (100, 5, 2, 4, 'log2')\n",
            "Running combination 5/24: (100, 5, 5, 2, 'sqrt')\n",
            "Running combination 6/24: (100, 5, 5, 2, 'log2')\n",
            "Running combination 7/24: (100, 5, 5, 4, 'sqrt')\n",
            "Running combination 8/24: (100, 5, 5, 4, 'log2')\n",
            "Running combination 9/24: (100, 10, 2, 2, 'sqrt')\n",
            "Running combination 10/24: (100, 10, 2, 2, 'log2')\n",
            "Running combination 11/24: (100, 10, 2, 4, 'sqrt')\n",
            "Running combination 12/24: (100, 10, 2, 4, 'log2')\n",
            "Running combination 13/24: (100, 10, 5, 2, 'sqrt')\n",
            "Running combination 14/24: (100, 10, 5, 2, 'log2')\n",
            "Running combination 15/24: (100, 10, 5, 4, 'sqrt')\n",
            "Running combination 16/24: (100, 10, 5, 4, 'log2')\n",
            "Running combination 17/24: (100, 20, 2, 2, 'sqrt')\n",
            "Running combination 18/24: (100, 20, 2, 2, 'log2')\n",
            "Running combination 19/24: (100, 20, 2, 4, 'sqrt')\n",
            "Running combination 20/24: (100, 20, 2, 4, 'log2')\n",
            "Running combination 21/24: (100, 20, 5, 2, 'sqrt')\n",
            "Running combination 22/24: (100, 20, 5, 2, 'log2')\n",
            "Running combination 23/24: (100, 20, 5, 4, 'sqrt')\n",
            "Running combination 24/24: (100, 20, 5, 4, 'log2')\n",
            "Best hyperparameters: (100, 20, 5, 2, 'sqrt'), accuracy score: 0.87875\n"
          ]
        }
      ]
    },
    {
      "cell_type": "code",
      "source": [
        "# Plotting the results\n",
        "accuracy_scores = [result[1] for result in results_unsorted]\n",
        "x_ticks = np.arange(len(accuracy_scores))\n",
        "\n",
        "plt.figure(figsize=(12, 5))\n",
        "plt.bar(x_ticks, accuracy_scores)\n",
        "plt.xlabel('Hyperparameter Combination')\n",
        "plt.ylabel('Accuracy Score')\n",
        "plt.xticks(x_ticks, [f\"{i+1}\" for i in range(len(accuracy_scores))])\n",
        "plt.title('Accuracy Scores for Different Hyperparameter Combinations')\n",
        "plt.show()"
      ],
      "metadata": {
        "colab": {
          "base_uri": "https://localhost:8080/",
          "height": 487
        },
        "id": "3Ups4UxYmNpM",
        "outputId": "06d99482-ef67-41ca-8b84-b22214232ad5"
      },
      "execution_count": 20,
      "outputs": [
        {
          "output_type": "display_data",
          "data": {
            "text/plain": [
              "<Figure size 1200x500 with 1 Axes>"
            ],
            "image/png": "[encoded data removed]"
          },
          "metadata": {}
        }
      ]
    },
    {
      "cell_type": "code",
      "source": [
        "from sklearn.model_selection import StratifiedKFold\n",
        "from sklearn.ensemble import RandomForestClassifier\n",
        "from sklearn.metrics import accuracy_score, precision_score, recall_score, f1_score, roc_auc_score\n",
        "\n",
        "\n",
        "# Initialize the cross-validation splitter\n",
        "cv = StratifiedKFold(n_splits=5, shuffle=True, random_state=0)\n",
        "\n",
        "# Initialize empty lists to store evaluation metrics for each fold\n",
        "acc_scores = []\n",
        "precision_scores = []\n",
        "recall_scores = []\n",
        "f1_scores = []\n",
        "auc_roc_scores = []\n",
        "\n",
        "# Loop over all folds of the cross-validation splitter\n",
        "for fold, (train_idx, test_idx) in enumerate(cv.split(X_subset, y_subset)):\n",
        "    # Convert train and test indices to DataFrame indices\n",
        "    train_indices = X_subset.index[train_idx]\n",
        "    test_indices = X_subset.index[test_idx]\n",
        "\n",
        "    # Get the training and testing data for this fold\n",
        "    X_train, y_train = X_subset.loc[train_indices], y_subset.loc[train_indices]\n",
        "    X_test, y_test = X_subset.loc[test_indices], y_subset.loc[test_indices]\n",
        "    \n",
        "    # Initialize the random forest classifier\n",
        "    clf = RandomForestClassifier(**dict(zip(param_grid.keys(), results[0][0])))\n",
        "    \n",
        "    # Fit the classifier on the training data\n",
        "    clf.fit(X_train, y_train)\n",
        "    \n",
        "    # Predict the labels of the test data\n",
        "    y_pred = clf.predict(X_test)\n",
        "    \n",
        "    # Compute evaluation metrics for this fold\n",
        "    acc_scores.append(accuracy_score(y_test, y_pred))\n",
        "    precision_scores.append(precision_score(y_test, y_pred, average='weighted', zero_division=0))\n",
        "    recall_scores.append(recall_score(y_test, y_pred, average='weighted'))\n",
        "    f1_scores.append(f1_score(y_test, y_pred, average='weighted'))\n",
        "    auc_roc_scores.append(roc_auc_score(y_test, clf.predict_proba(X_test), multi_class='ovr'))\n",
        "    \n",
        "# Compute the mean evaluation metrics over all folds\n",
        "mean_acc = sum(acc_scores) / len(acc_scores)\n",
        "mean_precision = sum(precision_scores) / len(precision_scores)\n",
        "mean_recall = sum(recall_scores) / len(recall_scores)\n",
        "mean_f1 = sum(f1_scores) / len(f1_scores)\n",
        "mean_auc_roc = sum(auc_roc_scores) / len(auc_roc_scores)\n",
        "\n",
        "\n"
      ],
      "metadata": {
        "id": "yAepUxLvmkmc"
      },
      "execution_count": 24,
      "outputs": []
    },
    {
      "cell_type": "code",
      "source": [
        "# Plot the evaluation metrics for the best hyperparameter combination\n",
        "plt.figure(figsize=(8, 6))  # Adjust the figure size as needed\n",
        "plt.plot(range(cv.get_n_splits(X_subset, y_subset)), acc_scores, marker='o', label='Accuracy')\n",
        "plt.plot(range(cv.get_n_splits(X_subset, y_subset)), precision_scores, marker='o', label='Precision')\n",
        "plt.plot(range(cv.get_n_splits(X_subset, y_subset)), recall_scores, marker='o', label='Recall')\n",
        "plt.plot(range(cv.get_n_splits(X_subset, y_subset)), f1_scores, marker='o', label='F1-score')\n",
        "plt.plot(range(cv.get_n_splits(X_subset, y_subset)), auc_roc_scores, marker='o', label='AUC-ROC')\n",
        "plt.xlabel('Fold')\n",
        "plt.ylabel('Score')\n",
        "# plt.xticks(x_ticks, [f\"{i+1}\" for i in range(5)])\n",
        "plt.title('Evaluation Metrics for the Best Hyperparameter Combination')\n",
        "plt.legend()\n",
        "plt.tight_layout()\n",
        "plt.show()\n",
        "\n",
        "# Print the mean evaluation metrics\n",
        "print(f\"Mean accuracy: {mean_acc}\")\n",
        "print(f\"Mean precision: {mean_precision}\")\n",
        "print(f\"Mean recall: {mean_recall}\")\n",
        "print(f\"Mean F1-score: {mean_f1}\")\n",
        "print(f\"Mean AUC-ROC: {mean_auc_roc}\")"
      ],
      "metadata": {
        "colab": {
          "base_uri": "https://localhost:8080/",
          "height": 696
        },
        "id": "l5qngdV8pH43",
        "outputId": "b5de7eca-7c7b-4300-80c9-728eb525faec"
      },
      "execution_count": 28,
      "outputs": [
        {
          "output_type": "display_data",
          "data": {
            "text/plain": [
              "<Figure size 800x600 with 1 Axes>"
            ],
            "image/png": "[encoded data removed]"
          },
          "metadata": {}
        },
        {
          "output_type": "stream",
          "name": "stdout",
          "text": [
            "Mean accuracy: 0.8823333333333332\n",
            "Mean precision: 0.8805740866312355\n",
            "Mean recall: 0.8823333333333332\n",
            "Mean F1-score: 0.8742985716927146\n",
            "Mean AUC-ROC: 0.971729773500372\n"
          ]
        }
      ]
    },
    {
      "cell_type": "code",
      "source": [],
      "metadata": {
        "id": "gIz41-R-3rLk"
      },
      "execution_count": null,
      "outputs": []
    },
    {
      "cell_type": "code",
      "source": [
        "# from sklearn.model_selection import StratifiedKFold, StratifiedShuffleSplit\n",
        "# from sklearn.ensemble import RandomForestClassifier\n",
        "# from sklearn.metrics import accuracy_score, precision_score, recall_score, f1_score, roc_auc_score\n",
        "# from itertools import product\n",
        "\n",
        "# # Define the parameter grid\n",
        "# param_grid = {\n",
        "#     'n_estimators': [50, 100],\n",
        "#     'max_depth': [5, 10, 20],\n",
        "#     'min_samples_split': [2, 5],\n",
        "#     'min_samples_leaf': [1, 2]\n",
        "#     #'max_features': ['sqrt', 'log2', None]\n",
        "# }\n",
        "\n",
        "# # Create a list of all possible hyperparameter combinations\n",
        "# param_list = list(product(*param_grid.values()))\n",
        "\n",
        "# # Initialize an empty list to store results\n",
        "# results = []\n",
        "\n",
        "# # Initialize the cross-validation splitter\n",
        "# # cv = StratifiedShuffleSplit(n_splits=7, test_size=0.25, random_state=0)\n",
        "# cv = StratifiedKFold(n_splits=5, shuffle=True,random_state=0)\n",
        "\n",
        "# # Loop over all hyperparameter combinations\n",
        "# for i, params in enumerate(param_list):\n",
        "    \n",
        "#     # Print the current hyperparameter setting\n",
        "#     print(f\"Running combination {i+1}/{len(param_list)}: {params}\")\n",
        "    \n",
        "#     # Initialize the random forest classifier with the current hyperparameters\n",
        "#     clf = RandomForestClassifier(**dict(zip(param_grid.keys(), params)))\n",
        "    \n",
        "#     # Initialize empty lists to store evaluation metrics for each fold\n",
        "#     acc_scores = []\n",
        "#     precision_scores = []\n",
        "#     recall_scores = []\n",
        "#     f1_scores = []\n",
        "#     auc_roc_scores = []\n",
        "    \n",
        "#     # Loop over all folds of the cross-validation splitter\n",
        "#     for train_idx, test_idx in cv.split(X_subset, y_subset):\n",
        "\n",
        "#         # Convert train and test indices to DataFrame indices\n",
        "#         train_indices = X_subset.index[train_idx]\n",
        "#         test_indices = X_subset.index[test_idx]\n",
        "\n",
        "#         # Get the training and testing data for this fold\n",
        "#         X_train, y_train = X_subset.loc[train_indices], y_subset.loc[train_indices]\n",
        "#         X_test, y_test = X_subset.loc[test_indices], y_subset.loc[test_indices]\n",
        "        \n",
        "#         # Get the training and testing data for this fold\n",
        "#         # X_train, y_train = X_subset[train_idx], y_subset[train_idx]\n",
        "#         # X_test, y_test = X_subset[test_idx], y_subset[test_idx]\n",
        "#         #print(train_idx, test_idx)\n",
        "        \n",
        "#         # Fit the classifier on the training data\n",
        "#         clf.fit(X_train, y_train)\n",
        "        \n",
        "#         # Predict the labels of the test data\n",
        "#         y_pred = clf.predict(X_test)\n",
        "\n",
        "#         print(f\"Fold {i+1} - unique labels in y_test: {np.unique(y_test)}, unique labels in y_pred: {np.unique(y_pred)}\")\n",
        "\n",
        "        \n",
        "#         # Compute evaluation metrics for this fold\n",
        "#         acc_scores.append(accuracy_score(y_test, y_pred))\n",
        "#         precision_scores.append(precision_score(y_test, y_pred, average='weighted', zero_division=0))\n",
        "#         recall_scores.append(recall_score(y_test, y_pred, average='weighted'))\n",
        "#         f1_scores.append(f1_score(y_test, y_pred, average='weighted'))\n",
        "#         auc_roc_scores.append(roc_auc_score(y_test, clf.predict_proba(X_test), multi_class='ovr'))\n",
        "    \n",
        "#     # Compute the mean evaluation metrics over all folds\n",
        "#     mean_acc = sum(acc_scores) / len(acc_scores)\n",
        "#     mean_precision = sum(precision_scores) / len(precision_scores)\n",
        "#     mean_recall = sum(recall_scores) / len(recall_scores)\n",
        "#     mean_f1 = sum(f1_scores) / len(f1_scores)\n",
        "#     mean_auc_roc = sum(auc_roc_scores) / len(auc_roc_scores)\n",
        "    \n",
        "#     # Print the mean evaluation metrics for this hyperparameter combination\n",
        "#     print(f\"Mean accuracy: {mean_acc}\")\n",
        "#     print(f\"Mean precision: {mean_precision}\")\n",
        "#     print(f\"Mean recall: {mean_recall}\")\n",
        "#     print(f\"Mean F1-score: {mean_f1}\")\n",
        "#     print(f\"Mean AUC-ROC: {mean_auc_roc}\")\n",
        "    \n",
        "#     # Add the hyperparameter combination and its corresponding mean accuracy to the results list\n",
        "#     results.append((params, mean_acc))\n",
        "    \n",
        "# # Sort the results list by mean accuracy in descending order\n",
        "# results = sorted(results, key=lambda x: x[1], reverse=True)\n",
        "\n",
        "# # Print the best hyperparameter combination and its corresponding mean accuracy\n",
        "# print(f\"Best hyperparameters: {results[0][0]}, mean accuracy: {results[0][1]}\")\n"
      ],
      "metadata": {
        "id": "-EFugVig7-Sc"
      },
      "execution_count": null,
      "outputs": []
    }
  ]
}